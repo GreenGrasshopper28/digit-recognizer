{
  "nbformat": 4,
  "nbformat_minor": 0,
  "metadata": {
    "colab": {
      "name": "part 2 new.ipynb",
      "provenance": [],
      "collapsed_sections": [],
      "authorship_tag": "ABX9TyOOKk0H6KebLp2jkQbIWh/Z",
      "include_colab_link": true
    },
    "kernelspec": {
      "name": "python3",
      "display_name": "Python 3"
    },
    "language_info": {
      "name": "python"
    }
  },
  "cells": [
    {
      "cell_type": "markdown",
      "metadata": {
        "id": "view-in-github",
        "colab_type": "text"
      },
      "source": [
        "<a href=\"https://colab.research.google.com/github/GreenGrasshopper28/digit-recognizer/blob/main/part_2_new.ipynb\" target=\"_parent\"><img src=\"https://colab.research.google.com/assets/colab-badge.svg\" alt=\"Open In Colab\"/></a>"
      ]
    },
    {
      "cell_type": "code",
      "metadata": {
        "colab": {
          "base_uri": "https://localhost:8080/"
        },
        "id": "wmLxK-Ei56dN",
        "outputId": "5d0fc148-0837-45b1-f0ef-11291d1fcb9a"
      },
      "source": [
        "!pip install streamlit --quiet\n",
        "!pip install pyngrok==4.1.1 --quiet\n",
        "!pip install streamlit-drawable-canvas --quiet\n",
        "from pyngrok import ngrok "
      ],
      "execution_count": 1,
      "outputs": [
        {
          "output_type": "stream",
          "text": [
            "\u001b[K     |████████████████████████████████| 7.8MB 5.6MB/s \n",
            "\u001b[K     |████████████████████████████████| 174kB 46.4MB/s \n",
            "\u001b[K     |████████████████████████████████| 81kB 8.6MB/s \n",
            "\u001b[K     |████████████████████████████████| 112kB 44.4MB/s \n",
            "\u001b[K     |████████████████████████████████| 4.2MB 38.2MB/s \n",
            "\u001b[K     |████████████████████████████████| 71kB 7.5MB/s \n",
            "\u001b[K     |████████████████████████████████| 122kB 54.1MB/s \n",
            "\u001b[?25h  Building wheel for blinker (setup.py) ... \u001b[?25l\u001b[?25hdone\n",
            "\u001b[31mERROR: google-colab 1.0.0 has requirement ipykernel~=4.10, but you'll have ipykernel 5.5.5 which is incompatible.\u001b[0m\n",
            "  Building wheel for pyngrok (setup.py) ... \u001b[?25l\u001b[?25hdone\n",
            "\u001b[K     |████████████████████████████████| 1.3MB 6.6MB/s \n",
            "\u001b[?25h"
          ],
          "name": "stdout"
        }
      ]
    },
    {
      "cell_type": "code",
      "metadata": {
        "colab": {
          "base_uri": "https://localhost:8080/"
        },
        "id": "zLJLefx_6YdT",
        "outputId": "0d994f13-7f48-4e9b-e28e-e067352d9522"
      },
      "source": [
        "%%writefile app.py\n",
        "import streamlit as st\n",
        "st.title(\"DIGIT RECOGNIZER\") \n",
        "\n",
        "import pandas as pd\n",
        "from PIL import Image\n",
        "import streamlit as st\n",
        "import numpy as np\n",
        "from streamlit_drawable_canvas import st_canvas\n",
        "import cv2\n",
        "\n",
        "\n",
        "\n",
        "canvas_result = st_canvas(width=200,height=200,\n",
        "\n",
        "stroke_width = st.sidebar.slider(\"Stroke width: \", 1, 25, 3),\n",
        "stroke_color = st.sidebar.color_picker(\"Stroke color hex: \"),\n",
        "background_color = st.sidebar.color_picker(\"Background color hex: \", \"#eee\"),\n",
        "#bg_image = st.sidebar.file_uploader(\"Background image:\", type=[\"png\", \"jpg\"])\n",
        "drawing_mode = st.sidebar.selectbox(\"Drawing tool:\", (\"freedraw\", \"line\", \"rect\", \"circle\", \"transform\")))\n",
        "realtime_update = st.sidebar.checkbox(\"Update in realtime\", True)\n",
        "\n",
        "\n",
        "\n",
        "# resize from 250 to 28 x 28\n",
        "# canvas result.image_data\n",
        "# convert into usigned int 8\n",
        "# change to grayscale\n",
        "# expand dimensions\n",
        "# model.predict \n",
        "# np.argmax\n",
        "# plot a graph from output\n",
        "\n",
        "\n",
        "if canvas_result.image_data is not None:\n",
        "  st.image(canvas_result.image_data)\n",
        "  img=cv2.resize(canvas_result.image_data.astype('uint8'),(28,28))\n",
        "  rescaled=cv2.resize(img,(150,150),interpolation=cv2.INTER_NEAREST)\n",
        "  st.write('Rescaled image')\n",
        "  st.image(rescaled)\n",
        "\n",
        "from tensorflow import keras\n",
        "model_new=keras.models.load_model('/content/DIGIT (9).hdf5')\n",
        "  \n",
        "if st.button('Predict'):\n",
        "  img=cv2.cvtColor(img,cv2.COLOR_BGR2GRAY)\n",
        "  op=model_new.predict(img.reshape(1,28,28))\n",
        "  st.write(f'result:{np.argmax(op[0])}')\n",
        "  st.bar_chart(op[0])"
      ],
      "execution_count": 16,
      "outputs": [
        {
          "output_type": "stream",
          "text": [
            "Overwriting app.py\n"
          ],
          "name": "stdout"
        }
      ]
    },
    {
      "cell_type": "code",
      "metadata": {
        "colab": {
          "base_uri": "https://localhost:8080/"
        },
        "id": "GQW-Ik0i6m3-",
        "outputId": "bdb6a67e-c706-4067-fa1b-0104aed6c94a"
      },
      "source": [
        "!nohup streamlit run app.py &\n",
        "url = ngrok.connect(port='8501')\n",
        "print(url)"
      ],
      "execution_count": 3,
      "outputs": [
        {
          "output_type": "stream",
          "text": [
            "nohup: appending output to 'nohup.out'\n",
            "http://232121a75db2.ngrok.io\n"
          ],
          "name": "stdout"
        }
      ]
    },
    {
      "cell_type": "code",
      "metadata": {
        "id": "5yjJQbPV6qIe"
      },
      "source": [
        ""
      ],
      "execution_count": null,
      "outputs": []
    }
  ]
}