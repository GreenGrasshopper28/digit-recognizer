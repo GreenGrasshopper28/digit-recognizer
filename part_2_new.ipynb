{
  "nbformat": 4,
  "nbformat_minor": 0,
  "metadata": {
    "colab": {
      "name": "part 2 new.ipynb",
      "provenance": [],
      "collapsed_sections": [],
      "authorship_tag": "ABX9TyOHn4d5LZOtEE5RSrhw3FDF",
      "include_colab_link": true
    },
    "kernelspec": {
      "name": "python3",
      "display_name": "Python 3"
    },
    "language_info": {
      "name": "python"
    }
  },
  "cells": [
    {
      "cell_type": "markdown",
      "metadata": {
        "id": "view-in-github",
        "colab_type": "text"
      },
      "source": [
        "<a href=\"https://colab.research.google.com/github/GreenGrasshopper28/digit-recognizer/blob/main/part_2_new.ipynb\" target=\"_parent\"><img src=\"https://colab.research.google.com/assets/colab-badge.svg\" alt=\"Open In Colab\"/></a>"
      ]
    },
    {
      "cell_type": "code",
      "metadata": {
        "colab": {
          "base_uri": "https://localhost:8080/"
        },
        "id": "wmLxK-Ei56dN",
        "outputId": "74a5f4ac-d84c-4138-8dae-639b68ef3265"
      },
      "source": [
        "!pip install streamlit --quiet\n",
        "!pip install pyngrok==4.1.1 --quiet\n",
        "!pip install streamlit-drawable-canvas --quiet\n",
        "from pyngrok import ngrok "
      ],
      "execution_count": null,
      "outputs": [
        {
          "output_type": "stream",
          "text": [
            "\u001b[K     |████████████████████████████████| 8.2MB 4.3MB/s \n",
            "\u001b[K     |████████████████████████████████| 4.2MB 41.5MB/s \n",
            "\u001b[K     |████████████████████████████████| 163kB 34.5MB/s \n",
            "\u001b[K     |████████████████████████████████| 81kB 7.8MB/s \n",
            "\u001b[K     |████████████████████████████████| 112kB 42.8MB/s \n",
            "\u001b[K     |████████████████████████████████| 122kB 45.7MB/s \n",
            "\u001b[K     |████████████████████████████████| 71kB 8.8MB/s \n",
            "\u001b[?25h  Building wheel for blinker (setup.py) ... \u001b[?25l\u001b[?25hdone\n",
            "\u001b[31mERROR: google-colab 1.0.0 has requirement ipykernel~=4.10, but you'll have ipykernel 5.5.5 which is incompatible.\u001b[0m\n",
            "  Building wheel for pyngrok (setup.py) ... \u001b[?25l\u001b[?25hdone\n",
            "\u001b[K     |████████████████████████████████| 1.3MB 5.0MB/s \n",
            "\u001b[?25h"
          ],
          "name": "stdout"
        }
      ]
    },
    {
      "cell_type": "code",
      "metadata": {
        "colab": {
          "base_uri": "https://localhost:8080/"
        },
        "id": "zLJLefx_6YdT",
        "outputId": "76f37eb0-8691-4baf-f59f-9b5ba813bbb2"
      },
      "source": [
        "%%writefile app.py\n",
        "import streamlit as st\n",
        "st.title(\"DIGIT RECOGNIZER\") \n",
        "\n",
        "import pandas as pd\n",
        "from PIL import Image\n",
        "import streamlit as st\n",
        "import numpy as np\n",
        "from streamlit_drawable_canvas import st_canvas\n",
        "import cv2\n",
        "\n",
        "\n",
        "\n",
        "canvas_result = st_canvas(fill_color='#000000',stroke_width=20,stroke_color='#fcba03',background_color='#000000',width=200,height=200,drawing_mode=\"freedraw\")\n",
        "\n",
        "\n",
        "# resize from 250 to 28 x 28\n",
        "# canvas result.image_data\n",
        "# convert into usigned int 8\n",
        "# change to grayscale\n",
        "# expand dimensions\n",
        "# model.predict \n",
        "# np.argmax\n",
        "# plot a graph from output\n",
        "\n",
        "\n",
        "if canvas_result.image_data is not None:\n",
        "  st.image(canvas_result.image_data)\n",
        "  img=cv2.resize(canvas_result.image_data.astype('uint8'),(28,28))\n",
        "  rescaled=cv2.resize(img,(150,150),interpolation=cv2.INTER_NEAREST)\n",
        "  st.write('Rescaled image')\n",
        "  st.image(rescaled)\n",
        "\n",
        "from tensorflow import keras\n",
        "model_new=keras.models.load_model('/content/DIGIT (9).hdf5')\n",
        "  \n",
        "if st.button('Predict'):\n",
        "  img=cv2.cvtColor(img,cv2.COLOR_BGR2GRAY)\n",
        "  op=model_new.predict(img.reshape(1,28,28))\n",
        "  st.write(f'result:{np.argmax(op[0])}')\n",
        "  st.bar_chart(op[0])"
      ],
      "execution_count": null,
      "outputs": [
        {
          "output_type": "stream",
          "text": [
            "Writing app.py\n"
          ],
          "name": "stdout"
        }
      ]
    },
    {
      "cell_type": "code",
      "metadata": {
        "colab": {
          "base_uri": "https://localhost:8080/"
        },
        "id": "GQW-Ik0i6m3-",
        "outputId": "b11b4314-1d87-4fcc-8c3c-8072a2acd9cb"
      },
      "source": [
        "!nohup streamlit run app.py &\n",
        "url = ngrok.connect(port='8501')\n",
        "print(url)"
      ],
      "execution_count": null,
      "outputs": [
        {
          "output_type": "stream",
          "text": [
            "nohup: appending output to 'nohup.out'\n",
            "http://4e9112d1ab97.ngrok.io\n"
          ],
          "name": "stdout"
        }
      ]
    },
    {
      "cell_type": "code",
      "metadata": {
        "id": "5yjJQbPV6qIe"
      },
      "source": [
        ""
      ],
      "execution_count": null,
      "outputs": []
    }
  ]
}