{
  "nbformat": 4,
  "nbformat_minor": 0,
  "metadata": {
    "colab": {
      "name": "part 1.ipynb",
      "provenance": [],
      "collapsed_sections": [],
      "authorship_tag": "ABX9TyOukcU+NoZ9G+1duVSgu3hP",
      "include_colab_link": true
    },
    "kernelspec": {
      "name": "python3",
      "display_name": "Python 3"
    },
    "language_info": {
      "name": "python"
    }
  },
  "cells": [
    {
      "cell_type": "markdown",
      "metadata": {
        "id": "view-in-github",
        "colab_type": "text"
      },
      "source": [
        "<a href=\"https://colab.research.google.com/github/GreenGrasshopper28/digit-recognizer/blob/main/part_1.ipynb\" target=\"_parent\"><img src=\"https://colab.research.google.com/assets/colab-badge.svg\" alt=\"Open In Colab\"/></a>"
      ]
    },
    {
      "cell_type": "code",
      "metadata": {
        "id": "2S21Ba3uUXU0"
      },
      "source": [
        "from tensorflow import keras"
      ],
      "execution_count": 1,
      "outputs": []
    },
    {
      "cell_type": "code",
      "metadata": {
        "id": "K0nWSnrwUZ7H",
        "colab": {
          "base_uri": "https://localhost:8080/"
        },
        "outputId": "89638727-2bea-4efa-a482-d79f971712ae"
      },
      "source": [
        "(x_train,y_train),(x_test,y_test)=keras.datasets.mnist.load_data(path=\"mnist.npz\")"
      ],
      "execution_count": 2,
      "outputs": [
        {
          "output_type": "stream",
          "text": [
            "Downloading data from https://storage.googleapis.com/tensorflow/tf-keras-datasets/mnist.npz\n",
            "11493376/11490434 [==============================] - 0s 0us/step\n"
          ],
          "name": "stdout"
        }
      ]
    },
    {
      "cell_type": "code",
      "metadata": {
        "colab": {
          "base_uri": "https://localhost:8080/"
        },
        "id": "IPzHlXcBUpuz",
        "outputId": "07a8e556-5a1c-4ca6-f735-675827ce6223"
      },
      "source": [
        "print(x_test.shape)\n",
        "print(x_train.shape)\n",
        "print(y_test.shape)\n",
        "print(y_train.shape)"
      ],
      "execution_count": 3,
      "outputs": [
        {
          "output_type": "stream",
          "text": [
            "(10000, 28, 28)\n",
            "(60000, 28, 28)\n",
            "(10000,)\n",
            "(60000,)\n"
          ],
          "name": "stdout"
        }
      ]
    },
    {
      "cell_type": "code",
      "metadata": {
        "id": "FDAnOhd1uNXE"
      },
      "source": [
        "#!pip install opencv-contrib-python-headless==4.1.2.30 --quiet\n",
        "#!pip install cvlib --quiet"
      ],
      "execution_count": 4,
      "outputs": []
    },
    {
      "cell_type": "code",
      "metadata": {
        "id": "BElpM1bU9vSD"
      },
      "source": [
        "#!pip install tensorflow-cpu"
      ],
      "execution_count": 5,
      "outputs": []
    },
    {
      "cell_type": "code",
      "metadata": {
        "colab": {
          "base_uri": "https://localhost:8080/",
          "height": 282
        },
        "id": "t0N_pM2dU30Y",
        "outputId": "b6666e5f-1ad6-4da7-8ce6-fe5d774fe477"
      },
      "source": [
        "import matplotlib.pyplot as plt\n",
        "plt.imshow(x_train[20],cmap='gray')\n"
      ],
      "execution_count": 6,
      "outputs": [
        {
          "output_type": "execute_result",
          "data": {
            "text/plain": [
              "<matplotlib.image.AxesImage at 0x7f7dc9232850>"
            ]
          },
          "metadata": {
            "tags": []
          },
          "execution_count": 6
        },
        {
          "output_type": "display_data",
          "data": {
            "image/png": "[encoded data removed]",
            "text/plain": [
              "<Figure size 432x288 with 1 Axes>"
            ]
          },
          "metadata": {
            "tags": [],
            "needs_background": "light"
          }
        }
      ]
    },
    {
      "cell_type": "code",
      "metadata": {
        "colab": {
          "base_uri": "https://localhost:8080/",
          "height": 282
        },
        "id": "trVRhNLnVBuw",
        "outputId": "6b9048a0-d965-4510-a9f7-7bffdf980a25"
      },
      "source": [
        "x_train=keras.utils.normalize(x_train)\n",
        "import matplotlib.pyplot as plt\n",
        "plt.imshow(x_train[20],cmap='gray')\n"
      ],
      "execution_count": 7,
      "outputs": [
        {
          "output_type": "execute_result",
          "data": {
            "text/plain": [
              "<matplotlib.image.AxesImage at 0x7f7dc9ea6450>"
            ]
          },
          "metadata": {
            "tags": []
          },
          "execution_count": 7
        },
        {
          "output_type": "display_data",
          "data": {
            "image/png": "[encoded data removed]",
            "text/plain": [
              "<Figure size 432x288 with 1 Axes>"
            ]
          },
          "metadata": {
            "tags": [],
            "needs_background": "light"
          }
        }
      ]
    },
    {
      "cell_type": "code",
      "metadata": {
        "colab": {
          "base_uri": "https://localhost:8080/"
        },
        "id": "kZIDWtELV2QY",
        "outputId": "bbcf501a-5d9c-40ff-edd2-beafb949f058"
      },
      "source": [
        "x_train[0]"
      ],
      "execution_count": 8,
      "outputs": [
        {
          "output_type": "execute_result",
          "data": {
            "text/plain": [
              "array([[0.        , 0.        , 0.        , 0.        , 0.        ,\n",
              "        0.        , 0.        , 0.        , 0.        , 0.        ,\n",
              "        0.        , 0.        , 0.        , 0.        , 0.        ,\n",
              "        0.        , 0.        , 0.        , 0.        , 0.        ,\n",
              "        0.        , 0.        , 0.        , 0.        , 0.        ,\n",
              "        0.        , 0.        , 0.        ],\n",
              "       [0.        , 0.        , 0.        , 0.        , 0.        ,\n",
              "        0.        , 0.        , 0.        , 0.        , 0.        ,\n",
              "        0.        , 0.        , 0.        , 0.        , 0.        ,\n",
              "        0.        , 0.        , 0.        , 0.        , 0.        ,\n",
              "        0.        , 0.        , 0.        , 0.        , 0.        ,\n",
              "        0.        , 0.        , 0.        ],\n",
              "       [0.        , 0.        , 0.        , 0.        , 0.        ,\n",
              "        0.        , 0.        , 0.        , 0.        , 0.        ,\n",
              "        0.        , 0.        , 0.        , 0.        , 0.        ,\n",
              "        0.        , 0.        , 0.        , 0.        , 0.        ,\n",
              "        0.        , 0.        , 0.        , 0.        , 0.        ,\n",
              "        0.        , 0.        , 0.        ],\n",
              "       [0.        , 0.        , 0.        , 0.        , 0.        ,\n",
              "        0.        , 0.        , 0.        , 0.        , 0.        ,\n",
              "        0.        , 0.        , 0.        , 0.        , 0.        ,\n",
              "        0.        , 0.        , 0.        , 0.        , 0.        ,\n",
              "        0.        , 0.        , 0.        , 0.        , 0.        ,\n",
              "        0.        , 0.        , 0.        ],\n",
              "       [0.        , 0.        , 0.        , 0.        , 0.        ,\n",
              "        0.        , 0.        , 0.        , 0.        , 0.        ,\n",
              "        0.        , 0.        , 0.        , 0.        , 0.        ,\n",
              "        0.        , 0.        , 0.        , 0.        , 0.        ,\n",
              "        0.        , 0.        , 0.        , 0.        , 0.        ,\n",
              "        0.        , 0.        , 0.        ],\n",
              "       [0.        , 0.        , 0.        , 0.        , 0.        ,\n",
              "        0.        , 0.        , 0.        , 0.        , 0.        ,\n",
              "        0.        , 0.        , 0.00617053, 0.03702317, 0.03702317,\n",
              "        0.03702317, 0.25916217, 0.2797306 , 0.35994746, 0.05347791,\n",
              "        0.34143588, 0.52449487, 0.50804013, 0.26121901, 0.        ,\n",
              "        0.        , 0.        , 0.        ],\n",
              "       [0.        , 0.        , 0.        , 0.        , 0.        ,\n",
              "        0.        , 0.        , 0.        , 0.03783863, 0.04540636,\n",
              "        0.11856105, 0.19423832, 0.21441893, 0.31910581, 0.31910581,\n",
              "        0.31910581, 0.31910581, 0.31910581, 0.28378975, 0.2169415 ,\n",
              "        0.31910581, 0.30523165, 0.24595112, 0.08072242, 0.        ,\n",
              "        0.        , 0.        , 0.        ],\n",
              "       [0.        , 0.        , 0.        , 0.        , 0.        ,\n",
              "        0.        , 0.        , 0.06027503, 0.29276441, 0.31121595,\n",
              "        0.31121595, 0.31121595, 0.31121595, 0.31121595, 0.31121595,\n",
              "        0.31121595, 0.31121595, 0.30875574, 0.11439954, 0.10086841,\n",
              "        0.10086841, 0.06888574, 0.047974  , 0.        , 0.        ,\n",
              "        0.        , 0.        , 0.        ],\n",
              "       [0.        , 0.        , 0.        , 0.        , 0.        ,\n",
              "        0.        , 0.        , 0.02405893, 0.29271693, 0.33816157,\n",
              "        0.33816157, 0.33816157, 0.33816157, 0.33816157, 0.26464818,\n",
              "        0.24326247, 0.33014192, 0.32212228, 0.        , 0.        ,\n",
              "        0.        , 0.        , 0.        , 0.        , 0.        ,\n",
              "        0.        , 0.        , 0.        ],\n",
              "       [0.        , 0.        , 0.        , 0.        , 0.        ,\n",
              "        0.        , 0.        , 0.        , 0.16401365, 0.31982661,\n",
              "        0.21936825, 0.51869316, 0.51869316, 0.42028497, 0.02255188,\n",
              "        0.        , 0.08815734, 0.31572627, 0.        , 0.        ,\n",
              "        0.        , 0.        , 0.        , 0.        , 0.        ,\n",
              "        0.        , 0.        , 0.        ],\n",
              "       [0.        , 0.        , 0.        , 0.        , 0.        ,\n",
              "        0.        , 0.        , 0.        , 0.        , 0.04517963,\n",
              "        0.00322712, 0.49697592, 0.81646044, 0.29044047, 0.        ,\n",
              "        0.        , 0.        , 0.        , 0.        , 0.        ,\n",
              "        0.        , 0.        , 0.        , 0.        , 0.        ,\n",
              "        0.        , 0.        , 0.        ],\n",
              "       [0.        , 0.        , 0.        , 0.        , 0.        ,\n",
              "        0.        , 0.        , 0.        , 0.        , 0.        ,\n",
              "        0.        , 0.4022081 , 0.73207661, 0.54978085, 0.00578717,\n",
              "        0.        , 0.        , 0.        , 0.        , 0.        ,\n",
              "        0.        , 0.        , 0.        , 0.        , 0.        ,\n",
              "        0.        , 0.        , 0.        ],\n",
              "       [0.        , 0.        , 0.        , 0.        , 0.        ,\n",
              "        0.        , 0.        , 0.        , 0.        , 0.        ,\n",
              "        0.        , 0.03392574, 0.58599009, 0.78029206, 0.21589108,\n",
              "        0.        , 0.        , 0.        , 0.        , 0.        ,\n",
              "        0.        , 0.        , 0.        , 0.        , 0.        ,\n",
              "        0.        , 0.        , 0.        ],\n",
              "       [0.        , 0.        , 0.        , 0.        , 0.        ,\n",
              "        0.        , 0.        , 0.        , 0.        , 0.        ,\n",
              "        0.        , 0.        , 0.0912263 , 0.62815821, 0.58645476,\n",
              "        0.41703449, 0.28149828, 0.00260647, 0.        , 0.        ,\n",
              "        0.        , 0.        , 0.        , 0.        , 0.        ,\n",
              "        0.        , 0.        , 0.        ],\n",
              "       [0.        , 0.        , 0.        , 0.        , 0.        ,\n",
              "        0.        , 0.        , 0.        , 0.        , 0.        ,\n",
              "        0.        , 0.        , 0.        , 0.17804778, 0.52754898,\n",
              "        0.55612455, 0.55612455, 0.26157637, 0.05495302, 0.        ,\n",
              "        0.        , 0.        , 0.        , 0.        , 0.        ,\n",
              "        0.        , 0.        , 0.        ],\n",
              "       [0.        , 0.        , 0.        , 0.        , 0.        ,\n",
              "        0.        , 0.        , 0.        , 0.        , 0.        ,\n",
              "        0.        , 0.        , 0.        , 0.        , 0.10382122,\n",
              "        0.42912769, 0.58370594, 0.58370594, 0.34607072, 0.06229273,\n",
              "        0.        , 0.        , 0.        , 0.        , 0.        ,\n",
              "        0.        , 0.        , 0.        ],\n",
              "       [0.        , 0.        , 0.        , 0.        , 0.        ,\n",
              "        0.        , 0.        , 0.        , 0.        , 0.        ,\n",
              "        0.        , 0.        , 0.        , 0.        , 0.        ,\n",
              "        0.03864836, 0.22464358, 0.60871163, 0.61112716, 0.45170268,\n",
              "        0.        , 0.        , 0.        , 0.        , 0.        ,\n",
              "        0.        , 0.        , 0.        ],\n",
              "       [0.        , 0.        , 0.        , 0.        , 0.        ,\n",
              "        0.        , 0.        , 0.        , 0.        , 0.        ,\n",
              "        0.        , 0.        , 0.        , 0.        , 0.        ,\n",
              "        0.        , 0.        , 0.56810388, 0.57723004, 0.56810388,\n",
              "        0.14601867, 0.        , 0.        , 0.        , 0.        ,\n",
              "        0.        , 0.        , 0.        ],\n",
              "       [0.        , 0.        , 0.        , 0.        , 0.        ,\n",
              "        0.        , 0.        , 0.        , 0.        , 0.        ,\n",
              "        0.        , 0.        , 0.        , 0.        , 0.0973284 ,\n",
              "        0.27505852, 0.38719776, 0.53530619, 0.53530619, 0.43797779,\n",
              "        0.00423167, 0.        , 0.        , 0.        , 0.        ,\n",
              "        0.        , 0.        , 0.        ],\n",
              "       [0.        , 0.        , 0.        , 0.        , 0.        ,\n",
              "        0.        , 0.        , 0.        , 0.        , 0.        ,\n",
              "        0.        , 0.        , 0.0646848 , 0.24547053, 0.37981588,\n",
              "        0.41962191, 0.41962191, 0.41962191, 0.41464616, 0.3018624 ,\n",
              "        0.        , 0.        , 0.        , 0.        , 0.        ,\n",
              "        0.        , 0.        , 0.        ],\n",
              "       [0.        , 0.        , 0.        , 0.        , 0.        ,\n",
              "        0.        , 0.        , 0.        , 0.        , 0.        ,\n",
              "        0.03972867, 0.1887112 , 0.36583488, 0.41880645, 0.41880645,\n",
              "        0.41880645, 0.41880645, 0.33272765, 0.12911819, 0.        ,\n",
              "        0.        , 0.        , 0.        , 0.        , 0.        ,\n",
              "        0.        , 0.        , 0.        ],\n",
              "       [0.        , 0.        , 0.        , 0.        , 0.        ,\n",
              "        0.        , 0.        , 0.        , 0.03876324, 0.11123366,\n",
              "        0.35898134, 0.42639568, 0.42639568, 0.42639568, 0.42639568,\n",
              "        0.33370097, 0.13651403, 0.00337072, 0.        , 0.        ,\n",
              "        0.        , 0.        , 0.        , 0.        , 0.        ,\n",
              "        0.        , 0.        , 0.        ],\n",
              "       [0.        , 0.        , 0.        , 0.        , 0.        ,\n",
              "        0.        , 0.02927437, 0.27810651, 0.35617149, 0.41146752,\n",
              "        0.41146752, 0.41146752, 0.41146752, 0.317139  , 0.13010831,\n",
              "        0.01463718, 0.        , 0.        , 0.        , 0.        ,\n",
              "        0.        , 0.        , 0.        , 0.        , 0.        ,\n",
              "        0.        , 0.        , 0.        ],\n",
              "       [0.        , 0.        , 0.        , 0.        , 0.08516473,\n",
              "        0.26633334, 0.34994962, 0.39175776, 0.39175776, 0.39175776,\n",
              "        0.39175776, 0.37782171, 0.2059438 , 0.01703295, 0.        ,\n",
              "        0.        , 0.        , 0.        , 0.        , 0.        ,\n",
              "        0.        , 0.        , 0.        , 0.        , 0.        ,\n",
              "        0.        , 0.        , 0.        ],\n",
              "       [0.        , 0.        , 0.        , 0.        , 0.25195037,\n",
              "        0.46870179, 0.46870179, 0.46870179, 0.39274617, 0.25009779,\n",
              "        0.24454007, 0.02964122, 0.        , 0.        , 0.        ,\n",
              "        0.        , 0.        , 0.        , 0.        , 0.        ,\n",
              "        0.        , 0.        , 0.        , 0.        , 0.        ,\n",
              "        0.        , 0.        , 0.        ],\n",
              "       [0.        , 0.        , 0.        , 0.        , 0.        ,\n",
              "        0.        , 0.        , 0.        , 0.        , 0.        ,\n",
              "        0.        , 0.        , 0.        , 0.        , 0.        ,\n",
              "        0.        , 0.        , 0.        , 0.        , 0.        ,\n",
              "        0.        , 0.        , 0.        , 0.        , 0.        ,\n",
              "        0.        , 0.        , 0.        ],\n",
              "       [0.        , 0.        , 0.        , 0.        , 0.        ,\n",
              "        0.        , 0.        , 0.        , 0.        , 0.        ,\n",
              "        0.        , 0.        , 0.        , 0.        , 0.        ,\n",
              "        0.        , 0.        , 0.        , 0.        , 0.        ,\n",
              "        0.        , 0.        , 0.        , 0.        , 0.        ,\n",
              "        0.        , 0.        , 0.        ],\n",
              "       [0.        , 0.        , 0.        , 0.        , 0.        ,\n",
              "        0.        , 0.        , 0.        , 0.        , 0.        ,\n",
              "        0.        , 0.        , 0.        , 0.        , 0.        ,\n",
              "        0.        , 0.        , 0.        , 0.        , 0.        ,\n",
              "        0.        , 0.        , 0.        , 0.        , 0.        ,\n",
              "        0.        , 0.        , 0.        ]])"
            ]
          },
          "metadata": {
            "tags": []
          },
          "execution_count": 8
        }
      ]
    },
    {
      "cell_type": "code",
      "metadata": {
        "colab": {
          "base_uri": "https://localhost:8080/"
        },
        "id": "CSKxnhDEV49L",
        "outputId": "e99e5e1f-e634-47f7-d24f-76535c0b94fa"
      },
      "source": [
        "#from keras.utils import to_categorical()\n",
        "#to_categorical(y_train[0])\n",
        "import tensorflow as tf\n",
        "tf.keras.utils.to_categorical(y_train[0])"
      ],
      "execution_count": 9,
      "outputs": [
        {
          "output_type": "execute_result",
          "data": {
            "text/plain": [
              "array([0., 0., 0., 0., 0., 1.], dtype=float32)"
            ]
          },
          "metadata": {
            "tags": []
          },
          "execution_count": 9
        }
      ]
    },
    {
      "cell_type": "code",
      "metadata": {
        "id": "XnZZqURTYw20"
      },
      "source": [
        "model=keras.Sequential()\n",
        "model.add(keras.layers.Flatten(input_shape=(28,28)))\n",
        "model.add(keras.layers.Dense(500,activation='relu'))\n",
        "model.add(keras.layers.Dense(10,activation='softmax'))"
      ],
      "execution_count": 10,
      "outputs": []
    },
    {
      "cell_type": "code",
      "metadata": {
        "id": "GLAjR1qQY2G4"
      },
      "source": [
        "model.compile(loss=\"sparse_categorical_crossentropy\",optimizer='adam',metrics=['accuracy'])"
      ],
      "execution_count": 11,
      "outputs": []
    },
    {
      "cell_type": "code",
      "metadata": {
        "colab": {
          "base_uri": "https://localhost:8080/"
        },
        "id": "9v_7bG9qY5M0",
        "outputId": "e0a63cb5-8f69-4a65-f4bd-22458f96086f"
      },
      "source": [
        "history=model.fit(x_train,y_train,epochs=5)"
      ],
      "execution_count": 12,
      "outputs": [
        {
          "output_type": "stream",
          "text": [
            "Epoch 1/5\n",
            "1875/1875 [==============================] - 9s 4ms/step - loss: 0.2340 - accuracy: 0.9307\n",
            "Epoch 2/5\n",
            "1875/1875 [==============================] - 8s 4ms/step - loss: 0.0948 - accuracy: 0.9717\n",
            "Epoch 3/5\n",
            "1875/1875 [==============================] - 8s 4ms/step - loss: 0.0613 - accuracy: 0.9812\n",
            "Epoch 4/5\n",
            "1875/1875 [==============================] - 8s 4ms/step - loss: 0.0426 - accuracy: 0.9871\n",
            "Epoch 5/5\n",
            "1875/1875 [==============================] - 8s 5ms/step - loss: 0.0326 - accuracy: 0.9899\n"
          ],
          "name": "stdout"
        }
      ]
    },
    {
      "cell_type": "code",
      "metadata": {
        "colab": {
          "base_uri": "https://localhost:8080/",
          "height": 282
        },
        "id": "-hNAvj2mkfYB",
        "outputId": "075421aa-5646-4c94-edd6-69f6dd414ac3"
      },
      "source": [
        "import matplotlib.pyplot as plt\n",
        "plt.plot(history.history['loss'])"
      ],
      "execution_count": 13,
      "outputs": [
        {
          "output_type": "execute_result",
          "data": {
            "text/plain": [
              "[<matplotlib.lines.Line2D at 0x7f7dc2d58150>]"
            ]
          },
          "metadata": {
            "tags": []
          },
          "execution_count": 13
        },
        {
          "output_type": "display_data",
          "data": {
            "image/png": "[encoded data removed]",
            "text/plain": [
              "<Figure size 432x288 with 1 Axes>"
            ]
          },
          "metadata": {
            "tags": [],
            "needs_background": "light"
          }
        }
      ]
    },
    {
      "cell_type": "code",
      "metadata": {
        "colab": {
          "base_uri": "https://localhost:8080/"
        },
        "id": "BK6sZVn7lk60",
        "outputId": "eb3038e0-8e80-4212-9027-f38d70f73141"
      },
      "source": [
        "model.fit(x_train,y_train,epochs=20,validation_data=(x_train,y_train))"
      ],
      "execution_count": 14,
      "outputs": [
        {
          "output_type": "stream",
          "text": [
            "Epoch 1/20\n",
            "1875/1875 [==============================] - 14s 7ms/step - loss: 0.0245 - accuracy: 0.9926 - val_loss: 0.0133 - val_accuracy: 0.9963\n",
            "Epoch 2/20\n",
            "1875/1875 [==============================] - 14s 7ms/step - loss: 0.0180 - accuracy: 0.9943 - val_loss: 0.0117 - val_accuracy: 0.9967\n",
            "Epoch 3/20\n",
            "1875/1875 [==============================] - 12s 6ms/step - loss: 0.0136 - accuracy: 0.9959 - val_loss: 0.0115 - val_accuracy: 0.9963\n",
            "Epoch 4/20\n",
            "1875/1875 [==============================] - 12s 6ms/step - loss: 0.0122 - accuracy: 0.9961 - val_loss: 0.0092 - val_accuracy: 0.9972\n",
            "Epoch 5/20\n",
            "1875/1875 [==============================] - 12s 6ms/step - loss: 0.0093 - accuracy: 0.9969 - val_loss: 0.0088 - val_accuracy: 0.9970\n",
            "Epoch 6/20\n",
            "1875/1875 [==============================] - 14s 7ms/step - loss: 0.0080 - accuracy: 0.9974 - val_loss: 0.0064 - val_accuracy: 0.9981\n",
            "Epoch 7/20\n",
            "1875/1875 [==============================] - 14s 7ms/step - loss: 0.0091 - accuracy: 0.9970 - val_loss: 0.0091 - val_accuracy: 0.9973\n",
            "Epoch 8/20\n",
            "1875/1875 [==============================] - 12s 6ms/step - loss: 0.0060 - accuracy: 0.9981 - val_loss: 0.0077 - val_accuracy: 0.9977\n",
            "Epoch 9/20\n",
            "1875/1875 [==============================] - 13s 7ms/step - loss: 0.0055 - accuracy: 0.9983 - val_loss: 0.0073 - val_accuracy: 0.9976\n",
            "Epoch 10/20\n",
            "1875/1875 [==============================] - 12s 6ms/step - loss: 0.0066 - accuracy: 0.9979 - val_loss: 0.0074 - val_accuracy: 0.9975\n",
            "Epoch 11/20\n",
            "1875/1875 [==============================] - 13s 7ms/step - loss: 0.0055 - accuracy: 0.9981 - val_loss: 0.0029 - val_accuracy: 0.9992\n",
            "Epoch 12/20\n",
            "1875/1875 [==============================] - 14s 7ms/step - loss: 0.0030 - accuracy: 0.9991 - val_loss: 0.0023 - val_accuracy: 0.9994\n",
            "Epoch 13/20\n",
            "1875/1875 [==============================] - 14s 7ms/step - loss: 0.0059 - accuracy: 0.9978 - val_loss: 0.0079 - val_accuracy: 0.9976\n",
            "Epoch 14/20\n",
            "1875/1875 [==============================] - 12s 6ms/step - loss: 0.0037 - accuracy: 0.9987 - val_loss: 0.0099 - val_accuracy: 0.9964\n",
            "Epoch 15/20\n",
            "1875/1875 [==============================] - 12s 6ms/step - loss: 0.0035 - accuracy: 0.9988 - val_loss: 0.0023 - val_accuracy: 0.9993\n",
            "Epoch 16/20\n",
            "1875/1875 [==============================] - 13s 7ms/step - loss: 0.0037 - accuracy: 0.9988 - val_loss: 0.0011 - val_accuracy: 0.9996\n",
            "Epoch 17/20\n",
            "1875/1875 [==============================] - 14s 7ms/step - loss: 0.0049 - accuracy: 0.9984 - val_loss: 0.0027 - val_accuracy: 0.9991\n",
            "Epoch 18/20\n",
            "1875/1875 [==============================] - 14s 7ms/step - loss: 0.0034 - accuracy: 0.9989 - val_loss: 0.0053 - val_accuracy: 0.9983\n",
            "Epoch 19/20\n",
            "1875/1875 [==============================] - 13s 7ms/step - loss: 0.0041 - accuracy: 0.9986 - val_loss: 0.0031 - val_accuracy: 0.9988\n",
            "Epoch 20/20\n",
            "1875/1875 [==============================] - 14s 7ms/step - loss: 0.0037 - accuracy: 0.9989 - val_loss: 0.0026 - val_accuracy: 0.9990\n"
          ],
          "name": "stdout"
        },
        {
          "output_type": "execute_result",
          "data": {
            "text/plain": [
              "<tensorflow.python.keras.callbacks.History at 0x7f7dc2cb3350>"
            ]
          },
          "metadata": {
            "tags": []
          },
          "execution_count": 14
        }
      ]
    },
    {
      "cell_type": "code",
      "metadata": {
        "colab": {
          "base_uri": "https://localhost:8080/",
          "height": 282
        },
        "id": "Du1nhK2OlOh9",
        "outputId": "b9b7ae3b-73ca-490b-eb91-6b775255a740"
      },
      "source": [
        "import pandas as pd\n",
        "loss=pd.DataFrame(model.history.history)\n",
        "loss.plot()"
      ],
      "execution_count": 15,
      "outputs": [
        {
          "output_type": "execute_result",
          "data": {
            "text/plain": [
              "<matplotlib.axes._subplots.AxesSubplot at 0x7f7dc4c0e150>"
            ]
          },
          "metadata": {
            "tags": []
          },
          "execution_count": 15
        },
        {
          "output_type": "display_data",
          "data": {
            "image/png": "[encoded data removed]",
            "text/plain": [
              "<Figure size 432x288 with 1 Axes>"
            ]
          },
          "metadata": {
            "tags": [],
            "needs_background": "light"
          }
        }
      ]
    },
    {
      "cell_type": "code",
      "metadata": {
        "colab": {
          "base_uri": "https://localhost:8080/"
        },
        "id": "4CxYXL_DY8z0",
        "outputId": "6d938271-abcb-4c46-b444-6224a7570787"
      },
      "source": [
        "import numpy as np\n",
        "y_pred=model.predict(x_test)  # classification gives output in form of probability\n",
        "y_pred=np.argmax(y_pred,axis=1) # \n",
        "y_pred"
      ],
      "execution_count": 16,
      "outputs": [
        {
          "output_type": "execute_result",
          "data": {
            "text/plain": [
              "array([7, 2, 1, ..., 4, 5, 6])"
            ]
          },
          "metadata": {
            "tags": []
          },
          "execution_count": 16
        }
      ]
    },
    {
      "cell_type": "code",
      "metadata": {
        "colab": {
          "base_uri": "https://localhost:8080/"
        },
        "id": "fA3wStbRZLiH",
        "outputId": "191ff6e8-18c6-43b3-9f4f-7fbcfa5fda5e"
      },
      "source": [
        "from sklearn.metrics import accuracy_score,confusion_matrix\n",
        "confusion_matrix(y_pred,y_test)"
      ],
      "execution_count": 17,
      "outputs": [
        {
          "output_type": "execute_result",
          "data": {
            "text/plain": [
              "array([[ 970,    0,    1,    0,    0,    1,    6,    2,    2,    2],\n",
              "       [   0, 1124,    0,    0,    1,    2,    2,    1,    1,    2],\n",
              "       [   1,    4, 1011,    9,    3,    2,    0,   21,    5,    0],\n",
              "       [   1,    1,    4,  984,    0,   22,    1,    3,    8,    6],\n",
              "       [   1,    0,    4,    1,  970,    8,   15,    2,    6,   21],\n",
              "       [   0,    1,    1,    1,    0,  830,    1,    0,    2,    0],\n",
              "       [   3,    4,    2,    0,    1,    2,  929,    0,    0,    1],\n",
              "       [   2,    1,    6,    3,    1,    1,    1,  993,    3,    6],\n",
              "       [   2,    0,    3,    2,    1,   10,    3,    1,  940,    0],\n",
              "       [   0,    0,    0,   10,    5,   14,    0,    5,    7,  971]])"
            ]
          },
          "metadata": {
            "tags": []
          },
          "execution_count": 17
        }
      ]
    },
    {
      "cell_type": "code",
      "metadata": {
        "colab": {
          "base_uri": "https://localhost:8080/"
        },
        "id": "IgBmFklWZPwR",
        "outputId": "6cb1c6a6-a7ab-47b8-daf3-709ec0b05bb3"
      },
      "source": [
        "accuracy_score(y_pred,y_test)"
      ],
      "execution_count": 18,
      "outputs": [
        {
          "output_type": "execute_result",
          "data": {
            "text/plain": [
              "0.9722"
            ]
          },
          "metadata": {
            "tags": []
          },
          "execution_count": 18
        }
      ]
    },
    {
      "cell_type": "code",
      "metadata": {
        "id": "_w9rH8L3ZTqq"
      },
      "source": [
        "model.save('DIGIT.hdf5')"
      ],
      "execution_count": 19,
      "outputs": []
    },
    {
      "cell_type": "code",
      "metadata": {
        "id": "o39Knjk1ZfpG"
      },
      "source": [
        ""
      ],
      "execution_count": 19,
      "outputs": []
    }
  ]
}